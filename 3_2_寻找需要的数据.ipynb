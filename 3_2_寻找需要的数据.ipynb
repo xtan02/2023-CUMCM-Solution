{
 "cells": [
  {
   "cell_type": "markdown",
   "metadata": {},
   "source": [
    "订购量$\\times$(1-亏损比)=销售量\n",
    "\n",
    "单个商品获利 = 7月1日定价 $\\times$ 7月1日订购量$\\times$(1-亏损比) - 7月1日批发价 $\\times$ 7月1日订购量"
   ]
  },
  {
   "cell_type": "code",
   "execution_count": 74,
   "metadata": {},
   "outputs": [],
   "source": [
    "import pandas as pd\n",
    "import numpy as np\n",
    "from sklearn.ensemble import IsolationForest"
   ]
  },
  {
   "cell_type": "code",
   "execution_count": 75,
   "metadata": {},
   "outputs": [],
   "source": [
    "def result(file):\n",
    "    df = pd.read_csv(file, encoding='gbk')\n",
    "\n",
    "    # 计算平均利润\n",
    "    df['平均利润'] = (df['销售单价(元/千克)'] - df['批发价格(元/千克)']) * df['销量(千克)']\n",
    "    # 计算平均利润率\n",
    "    df['平均利润率'] = (df['销售单价(元/千克)'] - df['批发价格(元/千克)']) / df['批发价格(元/千克)']\n",
    "    # 计算加成率\n",
    "    df['加成率'] = df['平均利润率'] / (1 - df['平均利润率'])\n",
    "    # 计算成本加成定价\n",
    "    df['成本加成定价'] = df['批发价格(元/千克)'] * (1 + df['加成率'])\n",
    "\n",
    "    # 如果成本加成定价大于批发价的1.75倍，则将成本加成定价设置为批发价的1.75倍\n",
    "    max_allowed_price = df['批发价格(元/千克)'] * 1.75\n",
    "    df['成本加成定价'] = df['成本加成定价'].where(df['成本加成定价'] <= max_allowed_price, max_allowed_price)\n",
    "\n",
    "    df = df.drop([\"平均利润\", \"平均利润率\", \"加成率\"], axis=1)\n",
    "    df['日期'] = pd.to_datetime(df['日期'])\n",
    "    df = df.resample('D', on='日期').agg({'销量(千克)': 'sum', '成本加成定价': 'mean', '销售单价(元/千克)': 'mean', \"批发价格(元/千克)\": 'mean'})   # ------------------------注意啊这里是以日为单位而不是月\n",
    "    df['日期'] = df.index\n",
    "\n",
    "    df['成本加成定价'].fillna(0, inplace=True)\n",
    "    # 将DataFrame中的所有inf值替换为0\n",
    "    df.replace([np.inf, -np.inf], 0, inplace=True)\n",
    "\n",
    "    model = IsolationForest()\n",
    "    df['is_outlier'] = model.fit_predict(df[['成本加成定价']])\n",
    "    df_cleaned = df[df['is_outlier'] != -1]\n",
    "\n",
    "    return df_cleaned\n",
    "\n"
   ]
  },
  {
   "cell_type": "code",
   "execution_count": 76,
   "metadata": {},
   "outputs": [],
   "source": [
    "df01 = result(\"data_3\\\\白玉菇(袋).csv\")\n",
    "df02 = result(\"data_3\\\\菠菜.csv\")\n",
    "df03 = result(\"data_3\\\\菠菜(份).csv\")\n",
    "df04 = result(\"data_3\\\\菜心.csv\")\n",
    "df05 = result(\"data_3\\\\虫草花(份).csv\")\n",
    "df06 = result(\"data_3\\\\高瓜(1).csv\")\n",
    "df07 = result(\"data_3\\\\高瓜(2).csv\")\n",
    "df08 = result(\"data_3\\\\海鲜菇(包).csv\")\n",
    "df09 = result(\"data_3\\\\红椒(2).csv\")\n",
    "df10 = result(\"data_3\\\\红莲藕带.csv\")\n",
    "df11 = result(\"data_3\\\\红薯尖.csv\")\n",
    "df12 = result(\"data_3\\\\洪湖藕带.csv\")\n",
    "df13 = result(\"data_3\\\\姜蒜小米椒组合装(小份).csv\")\n",
    "df14 = result(\"data_3\\\\金针菇(盒).csv\")\n",
    "df15 = result(\"data_3\\\\净藕(1).csv\")\n",
    "df16 = result(\"data_3\\\\菱角.csv\")\n",
    "df17 = result(\"data_3\\\\螺丝椒.csv\")\n",
    "df18 = result(\"data_3\\\\螺丝椒(份).csv\")\n",
    "df19 = result(\"data_3\\\\木耳菜.csv\")\n",
    "df20 = result(\"data_3\\\\木耳菜(份).csv\")\n",
    "df21 = result(\"data_3\\\\奶白菜.csv\")\n",
    "df22 = result(\"data_3\\\\七彩椒(2).csv\")\n",
    "df23 = result(\"data_3\\\\青红杭椒组合装(份).csv\")\n",
    "df24 = result(\"data_3\\\\青茄子(1).csv\")\n",
    "df25 = result(\"data_3\\\\青线椒(份).csv\")\n",
    "df26 = result(\"data_3\\\\上海青.csv\")\n",
    "df27 = result(\"data_3\\\\双孢菇(盒).csv\")\n",
    "df28 = result(\"data_3\\\\娃娃菜.csv\")\n",
    "df29 = result(\"data_3\\\\外地茼蒿.csv\")\n",
    "df30 = result(\"data_3\\\\芜湖青椒(1).csv\")\n",
    "df31 = result(\"data_3\\\\西兰花.csv\")\n",
    "df32 = result(\"data_3\\\\西峡花菇(1).csv\")\n",
    "df33 = result(\"data_3\\\\鲜木耳(份).csv\")\n",
    "df34 = result(\"data_3\\\\苋菜.csv\")\n",
    "df35 = result(\"data_3\\\\小米椒(份).csv\")\n",
    "df36 = result(\"data_3\\\\小青菜(1).csv\")\n",
    "df37 = result(\"data_3\\\\小皱皮(份).csv\")\n",
    "df38 = result(\"data_3\\\\蟹味菇与白玉菇双拼(盒).csv\")\n",
    "df39 = result(\"data_3\\\\野生粉藕.csv\")\n",
    "df40 = result(\"data_3\\\\圆茄子(2).csv\")\n",
    "df41 = result(\"data_3\\\\云南生菜.csv\")\n",
    "df42 = result(\"data_3\\\\云南生菜(份).csv\")\n",
    "df43 = result(\"data_3\\\\云南油麦菜.csv\")\n",
    "df44 = result(\"data_3\\\\云南油麦菜(份).csv\")\n",
    "df45 = result(\"data_3\\\\长线茄.csv\")\n",
    "df46 = result(\"data_3\\\\枝江青梗散花.csv\")\n",
    "df47 = result(\"data_3\\\\竹叶菜.csv\")\n",
    "df48 = result(\"data_3\\\\紫茄子(1).csv\")\n",
    "df49 = result(\"data_3\\\\紫茄子(2).csv\")"
   ]
  },
  {
   "cell_type": "code",
   "execution_count": 77,
   "metadata": {},
   "outputs": [
    {
     "data": {
      "text/html": [
       "<div>\n",
       "<style scoped>\n",
       "    .dataframe tbody tr th:only-of-type {\n",
       "        vertical-align: middle;\n",
       "    }\n",
       "\n",
       "    .dataframe tbody tr th {\n",
       "        vertical-align: top;\n",
       "    }\n",
       "\n",
       "    .dataframe thead th {\n",
       "        text-align: right;\n",
       "    }\n",
       "</style>\n",
       "<table border=\"1\" class=\"dataframe\">\n",
       "  <thead>\n",
       "    <tr style=\"text-align: right;\">\n",
       "      <th></th>\n",
       "      <th>销量(千克)</th>\n",
       "      <th>成本加成定价</th>\n",
       "      <th>销售单价(元/千克)</th>\n",
       "      <th>批发价格(元/千克)</th>\n",
       "      <th>日期</th>\n",
       "      <th>is_outlier</th>\n",
       "    </tr>\n",
       "    <tr>\n",
       "      <th>日期</th>\n",
       "      <th></th>\n",
       "      <th></th>\n",
       "      <th></th>\n",
       "      <th></th>\n",
       "      <th></th>\n",
       "      <th></th>\n",
       "    </tr>\n",
       "  </thead>\n",
       "  <tbody>\n",
       "    <tr>\n",
       "      <th>2023-06-24</th>\n",
       "      <td>13.573</td>\n",
       "      <td>6.65</td>\n",
       "      <td>6.0</td>\n",
       "      <td>3.8</td>\n",
       "      <td>2023-06-24</td>\n",
       "      <td>1</td>\n",
       "    </tr>\n",
       "    <tr>\n",
       "      <th>2023-06-25</th>\n",
       "      <td>16.448</td>\n",
       "      <td>6.65</td>\n",
       "      <td>6.0</td>\n",
       "      <td>3.8</td>\n",
       "      <td>2023-06-25</td>\n",
       "      <td>1</td>\n",
       "    </tr>\n",
       "    <tr>\n",
       "      <th>2023-06-26</th>\n",
       "      <td>16.395</td>\n",
       "      <td>6.65</td>\n",
       "      <td>6.0</td>\n",
       "      <td>3.8</td>\n",
       "      <td>2023-06-26</td>\n",
       "      <td>1</td>\n",
       "    </tr>\n",
       "    <tr>\n",
       "      <th>2023-06-27</th>\n",
       "      <td>4.095</td>\n",
       "      <td>6.65</td>\n",
       "      <td>6.0</td>\n",
       "      <td>3.8</td>\n",
       "      <td>2023-06-27</td>\n",
       "      <td>1</td>\n",
       "    </tr>\n",
       "    <tr>\n",
       "      <th>2023-06-28</th>\n",
       "      <td>6.075</td>\n",
       "      <td>6.65</td>\n",
       "      <td>6.0</td>\n",
       "      <td>3.8</td>\n",
       "      <td>2023-06-28</td>\n",
       "      <td>1</td>\n",
       "    </tr>\n",
       "    <tr>\n",
       "      <th>2023-06-29</th>\n",
       "      <td>5.369</td>\n",
       "      <td>6.65</td>\n",
       "      <td>6.0</td>\n",
       "      <td>3.8</td>\n",
       "      <td>2023-06-29</td>\n",
       "      <td>1</td>\n",
       "    </tr>\n",
       "  </tbody>\n",
       "</table>\n",
       "</div>"
      ],
      "text/plain": [
       "            销量(千克)  成本加成定价  销售单价(元/千克)  批发价格(元/千克)         日期  is_outlier\n",
       "日期                                                                       \n",
       "2023-06-24  13.573    6.65         6.0         3.8 2023-06-24           1\n",
       "2023-06-25  16.448    6.65         6.0         3.8 2023-06-25           1\n",
       "2023-06-26  16.395    6.65         6.0         3.8 2023-06-26           1\n",
       "2023-06-27   4.095    6.65         6.0         3.8 2023-06-27           1\n",
       "2023-06-28   6.075    6.65         6.0         3.8 2023-06-28           1\n",
       "2023-06-29   5.369    6.65         6.0         3.8 2023-06-29           1"
      ]
     },
     "execution_count": 77,
     "metadata": {},
     "output_type": "execute_result"
    }
   ],
   "source": [
    "df49"
   ]
  },
  {
   "cell_type": "code",
   "execution_count": 78,
   "metadata": {},
   "outputs": [],
   "source": [
    "def find_yueshu(df):\n",
    "\n",
    "    xiaoliang = [min(df[\"销量(千克)\"]), max(df[\"销量(千克)\"])]\n",
    "    chengbendingjia = [min(df[\"成本加成定价\"]), max(df[\"成本加成定价\"])]\n",
    "    print(xiaoliang)\n",
    "    print(chengbendingjia)\n",
    "    return xiaoliang, chengbendingjia"
   ]
  },
  {
   "cell_type": "code",
   "execution_count": null,
   "metadata": {},
   "outputs": [],
   "source": []
  },
  {
   "cell_type": "code",
   "execution_count": 79,
   "metadata": {},
   "outputs": [
    {
     "name": "stdout",
     "output_type": "stream",
     "text": [
      "[1.0, 1.0]\n",
      "[4.192401315789473, 6.2475]\n"
     ]
    }
   ],
   "source": [
    "xiaoliang1, chengbendingjia1 = find_yueshu(df01)\n"
   ]
  },
  {
   "cell_type": "code",
   "execution_count": 80,
   "metadata": {},
   "outputs": [
    {
     "name": "stdout",
     "output_type": "stream",
     "text": [
      "[2.293, 3.252]\n",
      "[16.852500000000003, 16.852500000000003]\n"
     ]
    }
   ],
   "source": [
    "xiaoliang2, chengbendingjia2 = find_yueshu(df02)\n"
   ]
  },
  {
   "cell_type": "code",
   "execution_count": 81,
   "metadata": {},
   "outputs": [
    {
     "name": "stdout",
     "output_type": "stream",
     "text": [
      "[2.0, 15.0]\n",
      "[4.96454081632653, 6.023490099009901]\n"
     ]
    }
   ],
   "source": [
    "xiaoliang3, chengbendingjia3 = find_yueshu(df03)\n"
   ]
  },
  {
   "cell_type": "code",
   "execution_count": 82,
   "metadata": {},
   "outputs": [
    {
     "name": "stdout",
     "output_type": "stream",
     "text": [
      "[0.822, 4.112]\n",
      "[6.587777777777778, 6.6125]\n"
     ]
    }
   ],
   "source": [
    "xiaoliang4, chengbendingjia4 = find_yueshu(df04)\n"
   ]
  },
  {
   "cell_type": "code",
   "execution_count": 83,
   "metadata": {},
   "outputs": [
    {
     "name": "stdout",
     "output_type": "stream",
     "text": [
      "[1.0, 4.0]\n",
      "[4.55, 4.654999999999999]\n"
     ]
    }
   ],
   "source": [
    "xiaoliang5, chengbendingjia5 = find_yueshu(df05)\n"
   ]
  },
  {
   "cell_type": "code",
   "execution_count": 84,
   "metadata": {},
   "outputs": [
    {
     "name": "stdout",
     "output_type": "stream",
     "text": [
      "[2.357, 3.477]\n",
      "[15.264971694971695, 17.52156458339888]\n"
     ]
    }
   ],
   "source": [
    "xiaoliang6, chengbendingjia6 = find_yueshu(df06)\n"
   ]
  },
  {
   "cell_type": "code",
   "execution_count": 85,
   "metadata": {},
   "outputs": [
    {
     "name": "stdout",
     "output_type": "stream",
     "text": [
      "[0.512, 2.365]\n",
      "[15.255044020542918, 18.311368305209097]\n"
     ]
    }
   ],
   "source": [
    "xiaoliang7, chengbendingjia7 = find_yueshu(df07)\n"
   ]
  },
  {
   "cell_type": "code",
   "execution_count": 86,
   "metadata": {},
   "outputs": [
    {
     "name": "stdout",
     "output_type": "stream",
     "text": [
      "[4.0, 11.0]\n",
      "[2.611607142857143, 3.4299999999999997]\n"
     ]
    }
   ],
   "source": [
    "xiaoliang8, chengbendingjia8 = find_yueshu(df08)\n"
   ]
  },
  {
   "cell_type": "code",
   "execution_count": 87,
   "metadata": {},
   "outputs": [
    {
     "name": "stdout",
     "output_type": "stream",
     "text": [
      "[1.325, 3.95]\n",
      "[20.689278634361234, 21.54109446459549]\n"
     ]
    }
   ],
   "source": [
    "xiaoliang9, chengbendingjia9 = find_yueshu(df09)\n"
   ]
  },
  {
   "cell_type": "code",
   "execution_count": 88,
   "metadata": {},
   "outputs": [
    {
     "name": "stdout",
     "output_type": "stream",
     "text": [
      "[0.218, 0.862]\n",
      "[9.9225, 9.957500000000001]\n"
     ]
    }
   ],
   "source": [
    "xiaoliang10, chengbendingjia10 = find_yueshu(df10)\n"
   ]
  },
  {
   "cell_type": "code",
   "execution_count": 89,
   "metadata": {},
   "outputs": [
    {
     "name": "stdout",
     "output_type": "stream",
     "text": [
      "[3.0869999999999997, 4.011]\n",
      "[6.3, 6.3]\n"
     ]
    }
   ],
   "source": [
    "xiaoliang11, chengbendingjia11 = find_yueshu(df11)\n"
   ]
  },
  {
   "cell_type": "code",
   "execution_count": 90,
   "metadata": {},
   "outputs": [
    {
     "name": "stdout",
     "output_type": "stream",
     "text": [
      "[4.339, 4.98]\n",
      "[20.305900621118013, 29.758695652173913]\n"
     ]
    }
   ],
   "source": [
    "xiaoliang12, chengbendingjia12 = find_yueshu(df12)\n"
   ]
  },
  {
   "cell_type": "code",
   "execution_count": 91,
   "metadata": {},
   "outputs": [
    {
     "name": "stdout",
     "output_type": "stream",
     "text": [
      "[5.0, 9.0]\n",
      "[-23.836818181818238, 4.6025]\n"
     ]
    }
   ],
   "source": [
    "xiaoliang13, chengbendingjia13 = find_yueshu(df13)\n"
   ]
  },
  {
   "cell_type": "code",
   "execution_count": 92,
   "metadata": {},
   "outputs": [
    {
     "name": "stdout",
     "output_type": "stream",
     "text": [
      "[9.0, 26.0]\n",
      "[2.2271520053926523, 2.3361111111111112]\n"
     ]
    }
   ],
   "source": [
    "xiaoliang14, chengbendingjia14 = find_yueshu(df14)\n"
   ]
  },
  {
   "cell_type": "code",
   "execution_count": 93,
   "metadata": {},
   "outputs": [
    {
     "name": "stdout",
     "output_type": "stream",
     "text": [
      "[4.492999999999999, 7.4030000000000005]\n",
      "[16.66944899927659, 18.07142857142857]\n"
     ]
    }
   ],
   "source": [
    "xiaoliang15, chengbendingjia15 = find_yueshu(df15)\n"
   ]
  },
  {
   "cell_type": "code",
   "execution_count": 94,
   "metadata": {},
   "outputs": [
    {
     "name": "stdout",
     "output_type": "stream",
     "text": [
      "[0.903, 3.396]\n",
      "[16.03, 16.0825]\n"
     ]
    }
   ],
   "source": [
    "xiaoliang16, chengbendingjia16 = find_yueshu(df16)\n"
   ]
  },
  {
   "cell_type": "code",
   "execution_count": 95,
   "metadata": {},
   "outputs": [
    {
     "name": "stdout",
     "output_type": "stream",
     "text": [
      "[4.324, 8.47]\n",
      "[13.37, 13.57669491525424]\n"
     ]
    }
   ],
   "source": [
    "xiaoliang17, chengbendingjia17 = find_yueshu(df17)\n"
   ]
  },
  {
   "cell_type": "code",
   "execution_count": 96,
   "metadata": {},
   "outputs": [
    {
     "name": "stdout",
     "output_type": "stream",
     "text": [
      "[7.0, 19.0]\n",
      "[4.380051020408162, 6.601962512413108]\n"
     ]
    }
   ],
   "source": [
    "xiaoliang18, chengbendingjia18 = find_yueshu(df18)\n"
   ]
  },
  {
   "cell_type": "code",
   "execution_count": 97,
   "metadata": {},
   "outputs": [
    {
     "name": "stdout",
     "output_type": "stream",
     "text": [
      "[2.769, 9.466]\n",
      "[5.022, 5.431842672413794]\n"
     ]
    }
   ],
   "source": [
    "xiaoliang19, chengbendingjia19 = find_yueshu(df19)\n"
   ]
  },
  {
   "cell_type": "code",
   "execution_count": 98,
   "metadata": {},
   "outputs": [
    {
     "name": "stdout",
     "output_type": "stream",
     "text": [
      "[0.0, 1.0]\n",
      "[-2.7867857142857138, 0.0]\n"
     ]
    }
   ],
   "source": [
    "xiaoliang20, chengbendingjia20 = find_yueshu(df20)\n"
   ]
  },
  {
   "cell_type": "code",
   "execution_count": 99,
   "metadata": {},
   "outputs": [
    {
     "name": "stdout",
     "output_type": "stream",
     "text": [
      "[6.34, 9.044]\n",
      "[-16.26777777777776, 4.7775]\n"
     ]
    }
   ],
   "source": [
    "xiaoliang21, chengbendingjia21 = find_yueshu(df21)\n"
   ]
  },
  {
   "cell_type": "code",
   "execution_count": 100,
   "metadata": {},
   "outputs": [
    {
     "name": "stdout",
     "output_type": "stream",
     "text": [
      "[0.168, 1.506]\n",
      "[19.068006700167505, 21.227500000000003]\n"
     ]
    }
   ],
   "source": [
    "xiaoliang22, chengbendingjia22 = find_yueshu(df22)\n"
   ]
  },
  {
   "cell_type": "code",
   "execution_count": 101,
   "metadata": {},
   "outputs": [
    {
     "name": "stdout",
     "output_type": "stream",
     "text": [
      "[1.0, 4.0]\n",
      "[5.1625000000000005, 5.81]\n"
     ]
    }
   ],
   "source": [
    "xiaoliang23, chengbendingjia23 = find_yueshu(df23)\n"
   ]
  },
  {
   "cell_type": "code",
   "execution_count": 102,
   "metadata": {},
   "outputs": [
    {
     "name": "stdout",
     "output_type": "stream",
     "text": [
      "[3.758, 7.098]\n",
      "[7.21, 7.21]\n"
     ]
    }
   ],
   "source": [
    "xiaoliang24, chengbendingjia24 = find_yueshu(df24)\n"
   ]
  },
  {
   "cell_type": "code",
   "execution_count": 103,
   "metadata": {},
   "outputs": [
    {
     "name": "stdout",
     "output_type": "stream",
     "text": [
      "[1.0, 1.0]\n",
      "[4.4624999999999995, 5.4425]\n"
     ]
    }
   ],
   "source": [
    "xiaoliang25, chengbendingjia25 = find_yueshu(df25)\n"
   ]
  },
  {
   "cell_type": "code",
   "execution_count": 104,
   "metadata": {},
   "outputs": [
    {
     "name": "stdout",
     "output_type": "stream",
     "text": [
      "[1.42, 5.553]\n",
      "[7.140000000000001, 7.140000000000001]\n"
     ]
    }
   ],
   "source": [
    "xiaoliang26, chengbendingjia26 = find_yueshu(df26)\n"
   ]
  },
  {
   "cell_type": "code",
   "execution_count": 105,
   "metadata": {},
   "outputs": [
    {
     "name": "stdout",
     "output_type": "stream",
     "text": [
      "[7.0, 13.0]\n",
      "[5.479230769230769, 5.603728448275862]\n"
     ]
    }
   ],
   "source": [
    "xiaoliang27, chengbendingjia27 = find_yueshu(df27)\n"
   ]
  },
  {
   "cell_type": "code",
   "execution_count": 106,
   "metadata": {},
   "outputs": [
    {
     "name": "stdout",
     "output_type": "stream",
     "text": [
      "[6.0, 19.0]\n",
      "[7.651117429730513, 8.049999999999999]\n"
     ]
    }
   ],
   "source": [
    "xiaoliang28, chengbendingjia28 = find_yueshu(df28)\n"
   ]
  },
  {
   "cell_type": "code",
   "execution_count": 107,
   "metadata": {},
   "outputs": [
    {
     "name": "stdout",
     "output_type": "stream",
     "text": [
      "[0.996, 3.68]\n",
      "[13.405000000000001, 16.0825]\n"
     ]
    }
   ],
   "source": [
    "xiaoliang29, chengbendingjia29 = find_yueshu(df29)\n"
   ]
  },
  {
   "cell_type": "code",
   "execution_count": 108,
   "metadata": {},
   "outputs": [
    {
     "name": "stdout",
     "output_type": "stream",
     "text": [
      "[10.334, 17.095]\n",
      "[5.95, 6.352499999999999]\n"
     ]
    }
   ],
   "source": [
    "xiaoliang30, chengbendingjia30 = find_yueshu(df30)\n"
   ]
  },
  {
   "cell_type": "code",
   "execution_count": 109,
   "metadata": {},
   "outputs": [
    {
     "name": "stdout",
     "output_type": "stream",
     "text": [
      "[8.083, 16.9]\n",
      "[12.985, 13.895000000000001]\n"
     ]
    }
   ],
   "source": [
    "xiaoliang31, chengbendingjia31 = find_yueshu(df31)\n"
   ]
  },
  {
   "cell_type": "code",
   "execution_count": 110,
   "metadata": {},
   "outputs": [
    {
     "ename": "ValueError",
     "evalue": "min() arg is an empty sequence",
     "output_type": "error",
     "traceback": [
      "\u001b[1;31m---------------------------------------------------------------------------\u001b[0m",
      "\u001b[1;31mValueError\u001b[0m                                Traceback (most recent call last)",
      "\u001b[1;32me:\\Python\\国赛解题solution\\3_2_寻找需要的数据.ipynb 单元格 39\u001b[0m line \u001b[0;36m1\n\u001b[1;32m----> <a href='vscode-notebook-cell:/e%3A/Python/%E5%9B%BD%E8%B5%9B%E8%A7%A3%E9%A2%98solution/3_2_%E5%AF%BB%E6%89%BE%E9%9C%80%E8%A6%81%E7%9A%84%E6%95%B0%E6%8D%AE.ipynb#X22sZmlsZQ%3D%3D?line=0'>1</a>\u001b[0m xiaoliang32, chengbendingjia32 \u001b[39m=\u001b[39m find_yueshu(df32)\n",
      "\u001b[1;32me:\\Python\\国赛解题solution\\3_2_寻找需要的数据.ipynb 单元格 39\u001b[0m line \u001b[0;36m3\n\u001b[0;32m      <a href='vscode-notebook-cell:/e%3A/Python/%E5%9B%BD%E8%B5%9B%E8%A7%A3%E9%A2%98solution/3_2_%E5%AF%BB%E6%89%BE%E9%9C%80%E8%A6%81%E7%9A%84%E6%95%B0%E6%8D%AE.ipynb#X22sZmlsZQ%3D%3D?line=0'>1</a>\u001b[0m \u001b[39mdef\u001b[39;00m \u001b[39mfind_yueshu\u001b[39m(df):\n\u001b[1;32m----> <a href='vscode-notebook-cell:/e%3A/Python/%E5%9B%BD%E8%B5%9B%E8%A7%A3%E9%A2%98solution/3_2_%E5%AF%BB%E6%89%BE%E9%9C%80%E8%A6%81%E7%9A%84%E6%95%B0%E6%8D%AE.ipynb#X22sZmlsZQ%3D%3D?line=2'>3</a>\u001b[0m     xiaoliang \u001b[39m=\u001b[39m [\u001b[39mmin\u001b[39m(df[\u001b[39m\"\u001b[39m\u001b[39m销量(千克)\u001b[39m\u001b[39m\"\u001b[39m]), \u001b[39mmax\u001b[39m(df[\u001b[39m\"\u001b[39m\u001b[39m销量(千克)\u001b[39m\u001b[39m\"\u001b[39m])]\n\u001b[0;32m      <a href='vscode-notebook-cell:/e%3A/Python/%E5%9B%BD%E8%B5%9B%E8%A7%A3%E9%A2%98solution/3_2_%E5%AF%BB%E6%89%BE%E9%9C%80%E8%A6%81%E7%9A%84%E6%95%B0%E6%8D%AE.ipynb#X22sZmlsZQ%3D%3D?line=3'>4</a>\u001b[0m     chengbendingjia \u001b[39m=\u001b[39m [\u001b[39mmin\u001b[39m(df[\u001b[39m\"\u001b[39m\u001b[39m成本加成定价\u001b[39m\u001b[39m\"\u001b[39m]), \u001b[39mmax\u001b[39m(df[\u001b[39m\"\u001b[39m\u001b[39m成本加成定价\u001b[39m\u001b[39m\"\u001b[39m])]\n\u001b[0;32m      <a href='vscode-notebook-cell:/e%3A/Python/%E5%9B%BD%E8%B5%9B%E8%A7%A3%E9%A2%98solution/3_2_%E5%AF%BB%E6%89%BE%E9%9C%80%E8%A6%81%E7%9A%84%E6%95%B0%E6%8D%AE.ipynb#X22sZmlsZQ%3D%3D?line=4'>5</a>\u001b[0m     \u001b[39mprint\u001b[39m(xiaoliang)\n",
      "\u001b[1;31mValueError\u001b[0m: min() arg is an empty sequence"
     ]
    }
   ],
   "source": [
    "xiaoliang32, chengbendingjia32 = find_yueshu(df32)\n"
   ]
  },
  {
   "cell_type": "code",
   "execution_count": null,
   "metadata": {},
   "outputs": [
    {
     "data": {
      "text/html": [
       "<div>\n",
       "<style scoped>\n",
       "    .dataframe tbody tr th:only-of-type {\n",
       "        vertical-align: middle;\n",
       "    }\n",
       "\n",
       "    .dataframe tbody tr th {\n",
       "        vertical-align: top;\n",
       "    }\n",
       "\n",
       "    .dataframe thead th {\n",
       "        text-align: right;\n",
       "    }\n",
       "</style>\n",
       "<table border=\"1\" class=\"dataframe\">\n",
       "  <thead>\n",
       "    <tr style=\"text-align: right;\">\n",
       "      <th></th>\n",
       "      <th>销量(千克)</th>\n",
       "      <th>成本加成定价</th>\n",
       "      <th>销售单价(元/千克)</th>\n",
       "      <th>批发价格(元/千克)</th>\n",
       "      <th>日期</th>\n",
       "      <th>is_outlier</th>\n",
       "    </tr>\n",
       "    <tr>\n",
       "      <th>日期</th>\n",
       "      <th></th>\n",
       "      <th></th>\n",
       "      <th></th>\n",
       "      <th></th>\n",
       "      <th></th>\n",
       "      <th></th>\n",
       "    </tr>\n",
       "  </thead>\n",
       "  <tbody>\n",
       "  </tbody>\n",
       "</table>\n",
       "</div>"
      ],
      "text/plain": [
       "Empty DataFrame\n",
       "Columns: [销量(千克), 成本加成定价, 销售单价(元/千克), 批发价格(元/千克), 日期, is_outlier]\n",
       "Index: []"
      ]
     },
     "execution_count": 32,
     "metadata": {},
     "output_type": "execute_result"
    }
   ],
   "source": [
    "df32"
   ]
  },
  {
   "cell_type": "code",
   "execution_count": 111,
   "metadata": {},
   "outputs": [
    {
     "name": "stdout",
     "output_type": "stream",
     "text": [
      "[4.0, 4.0]\n",
      "[1.1555555555555557, 1.1555555555555557]\n"
     ]
    }
   ],
   "source": [
    "xiaoliang33, chengbendingjia33 = find_yueshu(df33)\n"
   ]
  },
  {
   "cell_type": "code",
   "execution_count": 112,
   "metadata": {},
   "outputs": [
    {
     "name": "stdout",
     "output_type": "stream",
     "text": [
      "[3.809, 11.061]\n",
      "[4.077500000000001, 4.1475]\n"
     ]
    }
   ],
   "source": [
    "xiaoliang34, chengbendingjia34 = find_yueshu(df34)\n"
   ]
  },
  {
   "cell_type": "code",
   "execution_count": 113,
   "metadata": {},
   "outputs": [
    {
     "name": "stdout",
     "output_type": "stream",
     "text": [
      "[18.0, 23.0]\n",
      "[-3.2252739726027393, -2.1690808823529406]\n"
     ]
    }
   ],
   "source": [
    "xiaoliang35, chengbendingjia35 = find_yueshu(df35)\n"
   ]
  },
  {
   "cell_type": "code",
   "execution_count": 114,
   "metadata": {},
   "outputs": [
    {
     "name": "stdout",
     "output_type": "stream",
     "text": [
      "[4.788, 5.97]\n",
      "[5.25, 5.25]\n"
     ]
    }
   ],
   "source": [
    "xiaoliang36, chengbendingjia36 = find_yueshu(df36)\n"
   ]
  },
  {
   "cell_type": "code",
   "execution_count": 115,
   "metadata": {},
   "outputs": [
    {
     "name": "stdout",
     "output_type": "stream",
     "text": [
      "[6.0, 18.0]\n",
      "[2.255948275862069, 2.7697560975609754]\n"
     ]
    }
   ],
   "source": [
    "xiaoliang37, chengbendingjia37 = find_yueshu(df37)\n"
   ]
  },
  {
   "cell_type": "code",
   "execution_count": 116,
   "metadata": {},
   "outputs": [
    {
     "name": "stdout",
     "output_type": "stream",
     "text": [
      "[3.0, 3.0]\n",
      "[5.180355029585798, 5.180355029585798]\n"
     ]
    }
   ],
   "source": [
    "xiaoliang38, chengbendingjia38 = find_yueshu(df38)\n"
   ]
  },
  {
   "cell_type": "code",
   "execution_count": 117,
   "metadata": {},
   "outputs": [
    {
     "name": "stdout",
     "output_type": "stream",
     "text": [
      "[0.231, 1.441]\n",
      "[28.104999999999997, 28.122500000000002]\n"
     ]
    }
   ],
   "source": [
    "xiaoliang39, chengbendingjia39 = find_yueshu(df39)\n"
   ]
  },
  {
   "cell_type": "code",
   "execution_count": 118,
   "metadata": {},
   "outputs": [
    {
     "name": "stdout",
     "output_type": "stream",
     "text": [
      "[0.553, 2.209]\n",
      "[5.6000000000000005, 7.7700000000000005]\n"
     ]
    }
   ],
   "source": [
    "xiaoliang40, chengbendingjia40 = find_yueshu(df40)\n"
   ]
  },
  {
   "cell_type": "code",
   "execution_count": 121,
   "metadata": {},
   "outputs": [
    {
     "name": "stdout",
     "output_type": "stream",
     "text": [
      "[0.251, 7.971]\n",
      "[10.045, 10.08]\n"
     ]
    }
   ],
   "source": [
    "xiaoliang41, chengbendingjia41 = find_yueshu(df41)\n"
   ]
  },
  {
   "cell_type": "code",
   "execution_count": 122,
   "metadata": {},
   "outputs": [
    {
     "name": "stdout",
     "output_type": "stream",
     "text": [
      "[23.0, 58.0]\n",
      "[4.214895470383276, 4.866660493938239]\n"
     ]
    }
   ],
   "source": [
    "xiaoliang42, chengbendingjia42 = find_yueshu(df42)\n"
   ]
  },
  {
   "cell_type": "code",
   "execution_count": 123,
   "metadata": {},
   "outputs": [
    {
     "name": "stdout",
     "output_type": "stream",
     "text": [
      "[0.573, 4.232]\n",
      "[7.840000000000001, 7.840000000000001]\n"
     ]
    }
   ],
   "source": [
    "xiaoliang43, chengbendingjia43 = find_yueshu(df43)\n"
   ]
  },
  {
   "cell_type": "code",
   "execution_count": 126,
   "metadata": {},
   "outputs": [
    {
     "name": "stdout",
     "output_type": "stream",
     "text": [
      "[18.0, 26.0]\n",
      "[4.53289310232102, 4.958316400580552]\n"
     ]
    }
   ],
   "source": [
    "xiaoliang44, chengbendingjia44 = find_yueshu(df44)\n"
   ]
  },
  {
   "cell_type": "code",
   "execution_count": 129,
   "metadata": {},
   "outputs": [
    {
     "name": "stdout",
     "output_type": "stream",
     "text": [
      "[2.332, 8.789]\n",
      "[12.2325, 12.2675]\n"
     ]
    }
   ],
   "source": [
    "xiaoliang45, chengbendingjia45 = find_yueshu(df45)\n"
   ]
  },
  {
   "cell_type": "code",
   "execution_count": 130,
   "metadata": {},
   "outputs": [
    {
     "name": "stdout",
     "output_type": "stream",
     "text": [
      "[2.161, 2.668]\n",
      "[16.803333333333335, 16.92250865051903]\n"
     ]
    }
   ],
   "source": [
    "xiaoliang46, chengbendingjia46 = find_yueshu(df46)\n"
   ]
  },
  {
   "cell_type": "code",
   "execution_count": 131,
   "metadata": {},
   "outputs": [
    {
     "name": "stdout",
     "output_type": "stream",
     "text": [
      "[12.022, 16.569]\n",
      "[4.1475, 4.234999999999999]\n"
     ]
    }
   ],
   "source": [
    "xiaoliang47, chengbendingjia47 = find_yueshu(df47)\n"
   ]
  },
  {
   "cell_type": "code",
   "execution_count": 132,
   "metadata": {},
   "outputs": [
    {
     "name": "stdout",
     "output_type": "stream",
     "text": [
      "[0.512, 0.512]\n",
      "[-58.8612499999999, -58.8612499999999]\n",
      "[4.095, 16.448]\n",
      "[6.6499999999999995, 6.65]\n"
     ]
    }
   ],
   "source": [
    "xiaoliang48, chengbendingjia48 = find_yueshu(df48)\n",
    "xiaoliang49, chengbendingjia49 = find_yueshu(df49)"
   ]
  },
  {
   "cell_type": "code",
   "execution_count": 133,
   "metadata": {},
   "outputs": [
    {
     "data": {
      "text/plain": [
       "([4.095, 16.448], [6.6499999999999995, 6.65])"
      ]
     },
     "execution_count": 133,
     "metadata": {},
     "output_type": "execute_result"
    }
   ],
   "source": [
    "xiaoliang49, chengbendingjia49"
   ]
  }
 ],
 "metadata": {
  "kernelspec": {
   "display_name": "ml",
   "language": "python",
   "name": "python3"
  },
  "language_info": {
   "codemirror_mode": {
    "name": "ipython",
    "version": 3
   },
   "file_extension": ".py",
   "mimetype": "text/x-python",
   "name": "python",
   "nbconvert_exporter": "python",
   "pygments_lexer": "ipython3",
   "version": "3.11.0"
  },
  "orig_nbformat": 4
 },
 "nbformat": 4,
 "nbformat_minor": 2
}
