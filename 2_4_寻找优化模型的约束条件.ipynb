{
 "cells": [
  {
   "cell_type": "code",
   "execution_count": 1,
   "metadata": {},
   "outputs": [],
   "source": [
    "import pandas as pd\n",
    "import numpy as np\n",
    "\n",
    "import matplotlib.pyplot as plt\n",
    "import seaborn as sns"
   ]
  },
  {
   "cell_type": "code",
   "execution_count": 2,
   "metadata": {},
   "outputs": [],
   "source": [
    "# 设置中文字体为宋体\n",
    "plt.rcParams['font.sans-serif'] = ['SimHei']\n",
    "# 设置英文字体为新罗马\n",
    "plt.rcParams['font.serif'] = ['Times New Roman']\n",
    "# 字体大小\n",
    "plt.rcParams['font.size'] = 12  \n",
    "# 正常显示负号\n",
    "plt.rcParams['axes.unicode_minus'] = False "
   ]
  },
  {
   "cell_type": "code",
   "execution_count": 3,
   "metadata": {},
   "outputs": [],
   "source": [
    "def result(file):\n",
    "    df = pd.read_csv(file, encoding='gbk').drop([\"单品编码\", \"分类编码\"], axis=1)\n",
    "\n",
    "    # 计算平均利润\n",
    "    df['平均利润'] = (df['销售单价(元/千克)'] - df['批发价格(元/千克)']) * df['销量(千克)']\n",
    "    # 计算平均利润率\n",
    "    df['平均利润率'] = (df['销售单价(元/千克)'] - df['批发价格(元/千克)']) / df['批发价格(元/千克)']\n",
    "    # 计算加成率\n",
    "    df['加成率'] = df['平均利润率'] / (1 - df['平均利润率'])\n",
    "    # 计算成本加成定价\n",
    "    df['成本加成定价'] = df['批发价格(元/千克)'] * (1 + df['加成率'])\n",
    "\n",
    "    # 如果成本加成定价大于批发价的1.75倍，则将成本加成定价设置为批发价的1.75倍\n",
    "    #max_allowed_price = df['批发价格(元/千克)'] * 1.75\n",
    "    #df['成本加成定价'] = df['成本加成定价'].where(df['成本加成定价'] <= max_allowed_price, max_allowed_price)\n",
    "\n",
    "    df['成本加成定价'].fillna(0, inplace=True)\n",
    "\n",
    "    return df\n",
    "\n",
    "def data_prepare(df):\n",
    "    \n",
    "    df['销售日期'] = pd.to_datetime(df['销售日期'])\n",
    "    df = df.resample('D', on='销售日期').agg({'销量(千克)': 'sum', '成本加成定价': 'mean', '销售单价(元/千克)': 'mean'})   # ------------------------注意啊这里是以周为单位而不是月\n",
    "    df['日期'] = df.index\n",
    "    df['成本加成定价'].fillna(0, inplace=True)\n",
    "    # 将DataFrame中的所有inf值替换为0\n",
    "    df.replace([np.inf, -np.inf], 0, inplace=True)\n",
    "    return df\n",
    "\n",
    "df1 = result(\"data_2\\\\花菜类.csv\")\n",
    "df2 = result(\"data_2\\\\花叶类.csv\")\n",
    "df3 = result(\"data_2\\\\茄类.csv\")\n",
    "df4 = result(\"data_2\\\\辣椒类.csv\")\n",
    "df5 = result(\"data_2\\\\食用菌.csv\")\n",
    "df6 = result(\"data_2\\\\水生根茎类.csv\")\n",
    "name = [\"花菜类\", \"花叶类\", \"茄类\", \"辣椒类\", \"食用菌\", \"水生根茎类\"]\n",
    "\n",
    "\n",
    "\n",
    "df1_res = data_prepare(df1)\n",
    "df2_res = data_prepare(df2)\n",
    "df3_res = data_prepare(df3)\n",
    "df4_res = data_prepare(df4)\n",
    "df5_res = data_prepare(df5)\n",
    "df6_res = data_prepare(df6)\n",
    "df1_res.head()\n",
    "\n",
    "from sklearn.ensemble import IsolationForest\n",
    "\n",
    "def deal_out(df1):\n",
    "    model = IsolationForest()\n",
    "    df1['is_outlier'] = model.fit_predict(df1[['成本加成定价']])\n",
    "    df_cleaned = df1[df1['is_outlier'] != -1]\n",
    "    return df_cleaned\n",
    "\n",
    "df1_res = deal_out(df1_res)\n",
    "df2_res = deal_out(df2_res)\n",
    "df3_res = deal_out(df3_res)\n",
    "df4_res = deal_out(df4_res)\n",
    "df5_res = deal_out(df5_res)\n",
    "df6_res = deal_out(df6_res)"
   ]
  },
  {
   "cell_type": "code",
   "execution_count": 4,
   "metadata": {},
   "outputs": [
    {
     "data": {
      "text/html": [
       "<div>\n",
       "<style scoped>\n",
       "    .dataframe tbody tr th:only-of-type {\n",
       "        vertical-align: middle;\n",
       "    }\n",
       "\n",
       "    .dataframe tbody tr th {\n",
       "        vertical-align: top;\n",
       "    }\n",
       "\n",
       "    .dataframe thead th {\n",
       "        text-align: right;\n",
       "    }\n",
       "</style>\n",
       "<table border=\"1\" class=\"dataframe\">\n",
       "  <thead>\n",
       "    <tr style=\"text-align: right;\">\n",
       "      <th></th>\n",
       "      <th>销量(千克)</th>\n",
       "      <th>成本加成定价</th>\n",
       "      <th>销售单价(元/千克)</th>\n",
       "      <th>日期</th>\n",
       "      <th>is_outlier</th>\n",
       "    </tr>\n",
       "    <tr>\n",
       "      <th>销售日期</th>\n",
       "      <th></th>\n",
       "      <th></th>\n",
       "      <th></th>\n",
       "      <th></th>\n",
       "      <th></th>\n",
       "    </tr>\n",
       "  </thead>\n",
       "  <tbody>\n",
       "    <tr>\n",
       "      <th>2020-07-01</th>\n",
       "      <td>46.640</td>\n",
       "      <td>17.419473</td>\n",
       "      <td>12.834951</td>\n",
       "      <td>2020-07-01</td>\n",
       "      <td>1</td>\n",
       "    </tr>\n",
       "    <tr>\n",
       "      <th>2020-07-02</th>\n",
       "      <td>43.943</td>\n",
       "      <td>18.978969</td>\n",
       "      <td>12.421053</td>\n",
       "      <td>2020-07-02</td>\n",
       "      <td>1</td>\n",
       "    </tr>\n",
       "    <tr>\n",
       "      <th>2020-07-03</th>\n",
       "      <td>42.076</td>\n",
       "      <td>18.374880</td>\n",
       "      <td>12.000000</td>\n",
       "      <td>2020-07-03</td>\n",
       "      <td>1</td>\n",
       "    </tr>\n",
       "    <tr>\n",
       "      <th>2020-07-04</th>\n",
       "      <td>55.662</td>\n",
       "      <td>18.167197</td>\n",
       "      <td>12.619048</td>\n",
       "      <td>2020-07-04</td>\n",
       "      <td>1</td>\n",
       "    </tr>\n",
       "    <tr>\n",
       "      <th>2020-07-05</th>\n",
       "      <td>55.474</td>\n",
       "      <td>17.002282</td>\n",
       "      <td>12.641509</td>\n",
       "      <td>2020-07-05</td>\n",
       "      <td>1</td>\n",
       "    </tr>\n",
       "  </tbody>\n",
       "</table>\n",
       "</div>"
      ],
      "text/plain": [
       "            销量(千克)     成本加成定价  销售单价(元/千克)         日期  is_outlier\n",
       "销售日期                                                            \n",
       "2020-07-01  46.640  17.419473   12.834951 2020-07-01           1\n",
       "2020-07-02  43.943  18.978969   12.421053 2020-07-02           1\n",
       "2020-07-03  42.076  18.374880   12.000000 2020-07-03           1\n",
       "2020-07-04  55.662  18.167197   12.619048 2020-07-04           1\n",
       "2020-07-05  55.474  17.002282   12.641509 2020-07-05           1"
      ]
     },
     "execution_count": 4,
     "metadata": {},
     "output_type": "execute_result"
    }
   ],
   "source": [
    "df1_res.head()"
   ]
  },
  {
   "cell_type": "markdown",
   "metadata": {},
   "source": [
    "<br><br><br>"
   ]
  },
  {
   "cell_type": "markdown",
   "metadata": {},
   "source": [
    "# 确定约束条件：时间序列的置信度\n",
    "\n",
    "\n",
    "置信区间是一个统计概念，用于表示对于一个参数或统计量的估计值的不确定性范围。它并不直接表示预测值的范围，而是关于估计值的一个区间，使得我们可以合理地估计真实值可能位于该区间内的概率。\n",
    "\n",
    "具体来说，如果我们计算了一个参数的置信区间，例如均值的置信区间，那么该区间表示了我们对真实均值所持的一定程度的信心。例如，95%的置信区间意味着在多次重复抽样的情况下，我们预计约有95%的情况下，真实均值会落在该区间内。这并不意味着在任何特定情况下预测值都会落在这个区间内，因为每个样本可能都会有一定的随机性。\n",
    "\n",
    "置信区间通常与统计假设检验相关，它们用于帮助我们评估样本数据中的估计值（如均值、方差等）的可靠性，并提供了一种衡量估计的不确定性的方式。更广泛地说，置信区间是统计推断中的一个重要工具，用于从样本数据中获取关于总体参数的信息。\n",
    "\n",
    "总之，置信区间表示了对于估计值的不确定性，并告诉我们在一定置信水平下真实值可能位于该区间内。但它并不直接表示预测值的范围，因为预测值通常还涉及到更多的模型和假设。\n",
    "\n",
    "<br><br><br><br><br>"
   ]
  },
  {
   "cell_type": "markdown",
   "metadata": {},
   "source": [
    "确定时间序列的置信区间通常涉及统计分析方法，其中最常见的方法之一是使用基于统计模型的方法，例如ARIMA（自回归集成滑动平均）、GARCH（广义自回归条件异方差）等。下面是一个简单的方法，使用移动平均和标准差来估计时间序列的置信区间：\n",
    "\n",
    "计算移动平均：首先，计算时间序列的移动平均。移动平均可以帮助平滑时间序列，减少噪音的影响。你可以选择不同的窗口大小，例如3天、7天或30天的移动平均，具体取决于你的数据和需求。\n",
    "\n",
    "计算标准差：接下来，计算时间序列的标准差。标准差衡量了数据点的离散程度，较大的标准差表示数据波动较大，较小的标准差表示数据波动较小。\n",
    "\n",
    "计算置信区间：一旦你有了移动平均和标准差，你可以使用统计原理来计算置信区间。通常情况下，你可以使用正态分布或t分布来估计置信区间，具体取决于你的样本大小和数据的性质。常见的置信水平包括95%和99%。\n",
    "\n",
    "对于正态分布，你可以使用以下公式来计算置信区间：\n",
    "置信区间 = 移动平均 ± （Z值 * 标准差 / sqrt(样本大小)）\n",
    "其中，Z值是正态分布对应于所选置信水平的分位数，例如95%置信水平对应的Z值约为1.96。\n",
    "\n",
    "对于t分布，你可以使用以下公式来计算置信区间：\n",
    "置信区间 = 移动平均 ± （t值 * 标准差 / sqrt(样本大小)）\n",
    "其中，t值是t分布对应于所选置信水平和自由度的分位数。\n",
    "\n",
    "请注意，这只是一个简单的方法，适用于某些情况下。如果你的时间序列具有复杂的季节性、趋势或异方差性质，或者你需要更高级的置信区间估计方法，那么可能需要使用更复杂的统计模型，或者考虑使用专业的时间序列分析工具和软件。此外，选择合适的置信水平也要考虑你的具体需求和风险偏好。"
   ]
  },
  {
   "cell_type": "code",
   "execution_count": 5,
   "metadata": {},
   "outputs": [],
   "source": [
    "import numpy as np\n",
    "from scipy.stats import norm, t\n",
    "\n",
    "\n",
    "def find_bound(df, name):\n",
    "    # 计算移动平均和标准差（这里以7天的窗口为例）\n",
    "    window_size = 7\n",
    "    moving_avg = np.convolve(df[name], np.ones(window_size)/window_size, mode='valid')\n",
    "    std_dev = np.std(df[name])\n",
    "\n",
    "    # 选择置信水平（例如，95%）\n",
    "    confidence_level = 0.6\n",
    "\n",
    "    # 计算置信区间的半宽度\n",
    "    if len(df[name]) >= 30:\n",
    "        # 使用正态分布\n",
    "        z_value = norm.ppf((1 + confidence_level) / 2)\n",
    "        margin_error = z_value * (std_dev / np.sqrt(len(df[name])))\n",
    "    else:\n",
    "        # 使用t分布，如果样本大小较小\n",
    "        degrees_of_freedom = len(df1_res[name]) - 1\n",
    "        t_value = t.ppf((1 + confidence_level) / 2, df=degrees_of_freedom)\n",
    "        margin_error = t_value * (std_dev / np.sqrt(len(df[name])))\n",
    "\n",
    "    # 计算置信区间\n",
    "    lower_bound = min(moving_avg - margin_error)\n",
    "    upper_bound = max(moving_avg + margin_error)\n",
    "\n",
    "    return lower_bound, upper_bound\n",
    "\n",
    "lower_bound_1_1, upper_bound_1_1 = find_bound(df1_res, '销量(千克)')\n",
    "lower_bound_1_2, upper_bound_1_2 = find_bound(df1_res, '成本加成定价')\n",
    "\n",
    "lower_bound_2_1, upper_bound_2_1 = find_bound(df2_res, '销量(千克)')\n",
    "lower_bound_2_2, upper_bound_2_2 = find_bound(df2_res, '成本加成定价')\n",
    "\n",
    "lower_bound_3_1, upper_bound_3_1 = find_bound(df3_res, '销量(千克)')\n",
    "lower_bound_3_2, upper_bound_3_2 = find_bound(df3_res, '成本加成定价')\n",
    "\n",
    "lower_bound_4_1, upper_bound_4_1 = find_bound(df4_res, '销量(千克)')\n",
    "lower_bound_4_2, upper_bound_4_2 = find_bound(df4_res, '成本加成定价')\n",
    "\n",
    "lower_bound_5_1, upper_bound_5_1 = find_bound(df5_res, '销量(千克)')\n",
    "lower_bound_5_2, upper_bound_5_2 = find_bound(df5_res, '成本加成定价')\n",
    "\n",
    "lower_bound_6_1, upper_bound_6_1 = find_bound(df6_res, '销量(千克)')\n",
    "lower_bound_6_2, upper_bound_6_2 = find_bound(df6_res, '成本加成定价')"
   ]
  },
  {
   "cell_type": "code",
   "execution_count": 6,
   "metadata": {},
   "outputs": [
    {
     "name": "stdout",
     "output_type": "stream",
     "text": [
      "7.651135431721546 115.74929313970702\n",
      "0.22561647834573037 23.4072820568684\n"
     ]
    }
   ],
   "source": [
    "print(lower_bound_1_1, upper_bound_1_1)\n",
    "print(lower_bound_1_2, upper_bound_1_2)"
   ]
  },
  {
   "cell_type": "code",
   "execution_count": 7,
   "metadata": {},
   "outputs": [
    {
     "name": "stdout",
     "output_type": "stream",
     "text": [
      "40.5780896021723 467.2400532549705\n",
      "-0.5154517083269119 16.9385818903737\n"
     ]
    }
   ],
   "source": [
    "print(lower_bound_2_1, upper_bound_2_1)\n",
    "print(lower_bound_2_2, upper_bound_2_2)"
   ]
  },
  {
   "cell_type": "code",
   "execution_count": 8,
   "metadata": {},
   "outputs": [
    {
     "name": "stdout",
     "output_type": "stream",
     "text": [
      "-0.359321038246891 57.71317818110403\n",
      "-1.6126438868670474 30.65420445524721\n"
     ]
    }
   ],
   "source": [
    "print(lower_bound_3_1, upper_bound_3_1)\n",
    "print(lower_bound_3_2, upper_bound_3_2)"
   ]
  },
  {
   "cell_type": "code",
   "execution_count": 9,
   "metadata": {},
   "outputs": [
    {
     "name": "stdout",
     "output_type": "stream",
     "text": [
      "3.809870312049301 222.8035582593793\n",
      "-1.9697415567128158 31.590038448727142\n"
     ]
    }
   ],
   "source": [
    "print(lower_bound_4_1, upper_bound_4_1)\n",
    "print(lower_bound_4_2, upper_bound_4_2)"
   ]
  },
  {
   "cell_type": "code",
   "execution_count": 10,
   "metadata": {},
   "outputs": [
    {
     "name": "stdout",
     "output_type": "stream",
     "text": [
      "8.518161430301763 250.96069571255538\n",
      "2.6515760144852165 41.27447161904096\n"
     ]
    }
   ],
   "source": [
    "print(lower_bound_5_1, upper_bound_5_1)\n",
    "print(lower_bound_5_2, upper_bound_5_2)"
   ]
  },
  {
   "cell_type": "code",
   "execution_count": 11,
   "metadata": {},
   "outputs": [
    {
     "name": "stdout",
     "output_type": "stream",
     "text": [
      "1.132729241695602 130.54298504401868\n",
      "-0.173388930794969 27.56531732310192\n"
     ]
    }
   ],
   "source": [
    "print(lower_bound_6_1, upper_bound_6_1)\n",
    "print(lower_bound_6_2, upper_bound_6_2)"
   ]
  }
 ],
 "metadata": {
  "kernelspec": {
   "display_name": "ml",
   "language": "python",
   "name": "python3"
  },
  "language_info": {
   "codemirror_mode": {
    "name": "ipython",
    "version": 3
   },
   "file_extension": ".py",
   "mimetype": "text/x-python",
   "name": "python",
   "nbconvert_exporter": "python",
   "pygments_lexer": "ipython3",
   "version": "3.11.0"
  },
  "orig_nbformat": 4
 },
 "nbformat": 4,
 "nbformat_minor": 2
}
